{
 "cells": [
  {
   "cell_type": "code",
   "execution_count": null,
   "metadata": {},
   "outputs": [],
   "source": [
    "from scipy import io\n",
    "import numpy as np\n",
    "from scipy.sparse import csr_matrix\n",
    "mat_file = io.loadmat('ACM.mat')"
   ]
  },
  {
   "cell_type": "code",
   "execution_count": null,
   "metadata": {
    "scrolled": true
   },
   "outputs": [],
   "source": [
    "mat_file"
   ]
  },
  {
   "cell_type": "code",
   "execution_count": null,
   "metadata": {},
   "outputs": [],
   "source": [
    "paper_conf = mat_file['PvsC'].nonzero()[1]"
   ]
  },
  {
   "cell_type": "code",
   "execution_count": null,
   "metadata": {},
   "outputs": [],
   "source": [
    "# DataBase\n",
    "paper_db = np.isin(paper_conf,[1,13])\n",
    "paper_db_idx = np.where(paper_db == True)[0]\n",
    "paper_db_idx = np.sort(np.random.choice(paper_db_idx,994,replace=False))\n",
    "# Data Mining\n",
    "paper_dm = np.isin(paper_conf,[0])\n",
    "paper_dm_idx = np.where(paper_dm == True)[0]\n",
    "# Wireless Communication\n",
    "paper_wc = np.isin(paper_conf,[9,10])\n",
    "paper_wc_idx = np.where(paper_wc == True)[0]"
   ]
  },
  {
   "cell_type": "code",
   "execution_count": null,
   "metadata": {},
   "outputs": [],
   "source": [
    "paper_idx = np.sort(list(paper_db_idx)+list(paper_dm_idx)+list(paper_wc_idx))"
   ]
  },
  {
   "cell_type": "code",
   "execution_count": null,
   "metadata": {},
   "outputs": [],
   "source": [
    "len(paper_idx)"
   ]
  },
  {
   "cell_type": "code",
   "execution_count": null,
   "metadata": {},
   "outputs": [],
   "source": [
    "# 0 : database, 1: wireless communication, 2: data mining\n",
    "paper_target = []\n",
    "for idx in paper_idx:\n",
    "    if idx in paper_db_idx:\n",
    "        paper_target.append(0)\n",
    "    elif idx in paper_wc_idx:\n",
    "        paper_target.append(1)\n",
    "    else:\n",
    "        paper_target.append(2)\n",
    "paper_target = np.array(paper_target)"
   ]
  },
  {
   "cell_type": "code",
   "execution_count": null,
   "metadata": {},
   "outputs": [],
   "source": [
    "paper_target.shape"
   ]
  },
  {
   "cell_type": "markdown",
   "metadata": {},
   "source": [
    "## Edges (PAP, PSP)\n",
    "[0,1,9,10,13] : KDD,SIGMOD,SIGCOMM,MobiCOMM,VLDB"
   ]
  },
  {
   "cell_type": "code",
   "execution_count": null,
   "metadata": {},
   "outputs": [],
   "source": [
    "mat_file['PvsA']"
   ]
  },
  {
   "cell_type": "code",
   "execution_count": null,
   "metadata": {},
   "outputs": [],
   "source": [
    "authors = mat_file['PvsA'][paper_idx].nonzero()[1]\n",
    "author_dic = {}\n",
    "re_authors = []\n",
    "for author in authors:\n",
    "    if author not in author_dic:\n",
    "        author_dic[author] = len(author_dic) + len(paper_idx)\n",
    "    re_authors.append(author_dic[author])\n",
    "re_authors = np.array(re_authors)"
   ]
  },
  {
   "cell_type": "code",
   "execution_count": null,
   "metadata": {},
   "outputs": [],
   "source": [
    "len(author_dic)"
   ]
  },
  {
   "cell_type": "code",
   "execution_count": null,
   "metadata": {},
   "outputs": [],
   "source": [
    "subjects = mat_file['PvsL'][paper_idx].nonzero()[1]\n",
    "subject_dic = {}\n",
    "re_subjects = []\n",
    "for subject in subjects:\n",
    "    if subject not in subject_dic:\n",
    "        subject_dic[subject] = len(subject_dic) + len(paper_idx) + len(author_dic)\n",
    "    re_subjects.append(subject_dic[subject])\n",
    "re_subjects = np.array(re_subjects)"
   ]
  },
  {
   "cell_type": "code",
   "execution_count": null,
   "metadata": {},
   "outputs": [],
   "source": [
    "len(subject_dic)"
   ]
  },
  {
   "cell_type": "code",
   "execution_count": null,
   "metadata": {},
   "outputs": [],
   "source": [
    "node_num = len(paper_idx) + len(author_dic) + len(subject_dic)"
   ]
  },
  {
   "cell_type": "code",
   "execution_count": null,
   "metadata": {},
   "outputs": [],
   "source": [
    "node_num"
   ]
  },
  {
   "cell_type": "code",
   "execution_count": null,
   "metadata": {},
   "outputs": [],
   "source": [
    "papers = mat_file['PvsA'][paper_idx].nonzero()[0]\n",
    "data = np.ones_like(papers)"
   ]
  },
  {
   "cell_type": "code",
   "execution_count": null,
   "metadata": {},
   "outputs": [],
   "source": [
    "A_pa = csr_matrix((data, (papers, re_authors)), shape=(node_num,node_num))"
   ]
  },
  {
   "cell_type": "code",
   "execution_count": null,
   "metadata": {},
   "outputs": [],
   "source": [
    "A_pa"
   ]
  },
  {
   "cell_type": "code",
   "execution_count": null,
   "metadata": {},
   "outputs": [],
   "source": [
    "papers = mat_file['PvsL'][paper_idx].nonzero()[0]\n",
    "data = np.ones_like(papers)"
   ]
  },
  {
   "cell_type": "code",
   "execution_count": null,
   "metadata": {},
   "outputs": [],
   "source": [
    "A_ps = csr_matrix((data, (papers, re_subjects)), shape=(node_num,node_num))"
   ]
  },
  {
   "cell_type": "code",
   "execution_count": null,
   "metadata": {},
   "outputs": [],
   "source": [
    "A_ps"
   ]
  },
  {
   "cell_type": "code",
   "execution_count": null,
   "metadata": {},
   "outputs": [],
   "source": [
    "A_ap = A_pa.transpose()"
   ]
  },
  {
   "cell_type": "code",
   "execution_count": null,
   "metadata": {},
   "outputs": [],
   "source": [
    "A_sp = A_ps.transpose()"
   ]
  },
  {
   "cell_type": "code",
   "execution_count": null,
   "metadata": {},
   "outputs": [],
   "source": [
    "edges = [A_pa,A_ap,A_ps,A_sp]"
   ]
  },
  {
   "cell_type": "markdown",
   "metadata": {},
   "source": [
    "# Node Features"
   ]
  },
  {
   "cell_type": "code",
   "execution_count": null,
   "metadata": {},
   "outputs": [],
   "source": [
    "terms = mat_file['TvsP'].transpose()[paper_idx].nonzero()[1]\n",
    "term_dic = {}\n",
    "re_terms = []\n",
    "for term in terms:\n",
    "    if term not in term_dic:\n",
    "        term_dic[term] = len(term_dic) + len(paper_idx) + len(author_dic) + len(subject_dic)\n",
    "    re_terms.append(term_dic[term])\n",
    "re_terms = np.array(re_terms)"
   ]
  },
  {
   "cell_type": "code",
   "execution_count": null,
   "metadata": {},
   "outputs": [],
   "source": [
    "mat_file['TvsP'].transpose()"
   ]
  },
  {
   "cell_type": "code",
   "execution_count": null,
   "metadata": {},
   "outputs": [],
   "source": [
    "# tmp\n",
    "tmp_num_node = node_num + len(term_dic)\n",
    "papers = mat_file['PvsA'][paper_idx].nonzero()[0]\n",
    "data = np.ones_like(papers)\n",
    "A_pa_tmp = csr_matrix((data, (papers, re_authors)), shape=(tmp_num_node,tmp_num_node))\n",
    "papers = mat_file['PvsL'][paper_idx].nonzero()[0]\n",
    "data = np.ones_like(papers)\n",
    "A_ps_tmp = csr_matrix((data, (papers, re_subjects)), shape=(tmp_num_node,tmp_num_node))\n",
    "papers = mat_file['PvsT'][paper_idx].nonzero()[0]\n",
    "data = np.ones_like(papers)\n",
    "A_pt_tmp = csr_matrix((data, (papers, re_terms)), shape=(tmp_num_node,tmp_num_node))"
   ]
  },
  {
   "cell_type": "code",
   "execution_count": null,
   "metadata": {},
   "outputs": [],
   "source": [
    "paper_feat = np.array(A_pt_tmp[:len(paper_idx),-len(term_dic):].toarray()>0, dtype=np.int)\n",
    "author_feat = np.array(A_pa_tmp.transpose().dot(A_pt_tmp)[len(paper_idx):len(paper_idx)+len(author_dic),-len(term_dic):].toarray()>0, dtype=np.int)\n",
    "subject_feat = np.array(A_ps_tmp.transpose().dot(A_pt_tmp)[len(paper_idx)+len(author_dic):len(paper_idx)+len(author_dic)+len(subject_dic),-len(term_dic):].toarray()>0, dtype=np.int)"
   ]
  },
  {
   "cell_type": "code",
   "execution_count": null,
   "metadata": {},
   "outputs": [],
   "source": [
    "node_faeture = np.concatenate((paper_feat,author_feat,subject_feat))"
   ]
  },
  {
   "cell_type": "code",
   "execution_count": null,
   "metadata": {},
   "outputs": [],
   "source": [
    "node_faeture.shape"
   ]
  },
  {
   "cell_type": "markdown",
   "metadata": {},
   "source": [
    "# Label"
   ]
  },
  {
   "cell_type": "code",
   "execution_count": null,
   "metadata": {},
   "outputs": [],
   "source": [
    "paper_target.shape"
   ]
  },
  {
   "cell_type": "code",
   "execution_count": null,
   "metadata": {},
   "outputs": [],
   "source": [
    "# Train, Valid\n",
    "train_valid_DB = list(np.random.choice(np.where(paper_target==0)[0],300, replace=False))\n",
    "train_valid_WC = list(np.random.choice(np.where(paper_target==1)[0],300, replace=False))\n",
    "train_valid_DM = list(np.random.choice(np.where(paper_target==2)[0],300, replace=False))\n",
    "\n",
    "train_idx = np.array(train_valid_DB[:200] + train_valid_WC[:200] + train_valid_DM[:200])\n",
    "train_target = paper_target[train_idx]\n",
    "train_label = np.vstack((train_idx,train_target)).transpose()\n",
    "valid_idx = np.array(train_valid_DB[200:] + train_valid_WC[200:] + train_valid_DM[200:])\n",
    "valid_target = paper_target[valid_idx]\n",
    "valid_label = np.vstack((valid_idx,valid_target)).transpose()\n",
    "test_idx = np.array(list((set(np.arange(paper_target.shape[0])) - set(train_idx)) - set(valid_idx)))\n",
    "test_target = paper_target[test_idx]\n",
    "test_label = np.vstack((test_idx,test_target)).transpose()"
   ]
  },
  {
   "cell_type": "code",
   "execution_count": null,
   "metadata": {},
   "outputs": [],
   "source": [
    "labels = [train_label,valid_label,test_label]"
   ]
  },
  {
   "cell_type": "code",
   "execution_count": null,
   "metadata": {
    "scrolled": true
   },
   "outputs": [],
   "source": [
    "labels"
   ]
  }
 ],
 "metadata": {
  "kernelspec": {
   "display_name": "Python 3",
   "language": "python",
   "name": "python3"
  },
  "language_info": {
   "codemirror_mode": {
    "name": "ipython",
    "version": 3
   },
   "file_extension": ".py",
   "mimetype": "text/x-python",
   "name": "python",
   "nbconvert_exporter": "python",
   "pygments_lexer": "ipython3",
   "version": "3.6.8"
  }
 },
 "nbformat": 4,
 "nbformat_minor": 4
}
